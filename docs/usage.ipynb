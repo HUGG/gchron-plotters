{
 "cells": [
  {
   "cell_type": "markdown",
   "id": "f182959c-cc1d-4d30-bbf7-a3d613952877",
   "metadata": {},
   "source": [
    "# Usage\n",
    "\n",
    "T<sub>c</sub>plotter can be used either as a function in a Python script or interpreter, or from the command line.\n",
    "The four main T<sub>c</sub>plotter functions/command-line tools are:\n",
    "\n",
    "- `time_vs_temp`\n",
    "- `eu_vs_radius`\n",
    "- `rate_vs_radius_eu`\n",
    "- `rate_vs_age_tc`\n",
    "\n",
    "Brief examples of possible usage for both cases can be found below.\n",
    "\n",
    "## Usage in a Python script or interpreter\n",
    "\n",
    "Assuming the base `tcplotter` directory is your working directory, functions available in T<sub>c</sub>plotter can be imported as follows:\n",
    "\n",
    "```python\n",
    "from tcplotter import time_vs_temp, eu_vs_radius, rate_vs_radius_eu, rate_vs_age_tc\n",
    "```\n",
    "\n",
    "Once imported, you can use functions as shown below:\n",
    "\n",
    "```python\n",
    "eu_versus_radius(save_plot=True)\n",
    "```\n",
    "\n",
    "You can find more information about the function parameters using the `help()` function:\n",
    "\n",
    "```python\n",
    "help(eu_vs_radius)\n",
    "```\n",
    "\n",
    "## Command-line usage\n",
    "\n",
    "Command-line usage is similar to that for use in a Python script, except that the underscores in the function names have been replaced by hyphens.\n",
    "For example, assuming you are in a terminal in the `tcplotter/tcplotter` directory, you can type the following to use the `eu_vs_radius()` function:\n",
    "\n",
    "```bash\n",
    "./eu-vs-radius --save-plot\n",
    "```\n",
    "\n",
    "To find more information about options available for command-line use you can include the `--help` or `-h` flags.\n",
    "\n",
    "```bash\n",
    "./eu-vs-radius -h\n",
    "```\n",
    "\n",
    "## Functions reference\n",
    "\n",
    "You can also find details about the parameters available to the functions in T<sub>c</sub>plotter in the [functions reference guide](https://tcplotter.readthedocs.io/en/latest/reference.html)."
   ]
  }
 ],
 "metadata": {
  "kernelspec": {
   "display_name": "Python 3 (ipykernel)",
   "language": "python",
   "name": "python3"
  },
  "language_info": {
   "codemirror_mode": {
    "name": "ipython",
    "version": 3
   },
   "file_extension": ".py",
   "mimetype": "text/x-python",
   "name": "python",
   "nbconvert_exporter": "python",
   "pygments_lexer": "ipython3",
   "version": "3.8.12"
  }
 },
 "nbformat": 4,
 "nbformat_minor": 5
}
