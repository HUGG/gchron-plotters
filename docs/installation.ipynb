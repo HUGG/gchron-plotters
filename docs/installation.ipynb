{
 "cells": [
  {
   "cell_type": "markdown",
   "id": "9288add9-b40d-4e98-bd8c-79eec3389bf2",
   "metadata": {},
   "source": [
    "# Installation\n",
    "\n",
    "We recommend installing tcplotter using conda, assuming you have installed Python using Anaconda or miniconda.\n",
    "\n",
    "```bash\n",
    "conda install -c conda-forge tcplotter\n",
    "```\n",
    "\n",
    "Installing things this way will allow you to use tcplotter by typing `import tcplotter`."
   ]
  }
 ],
 "metadata": {
  "kernelspec": {
   "display_name": "Python 3 (ipykernel)",
   "language": "python",
   "name": "python3"
  },
  "language_info": {
   "codemirror_mode": {
    "name": "ipython",
    "version": 3
   },
   "file_extension": ".py",
   "mimetype": "text/x-python",
   "name": "python",
   "nbconvert_exporter": "python",
   "pygments_lexer": "ipython3",
   "version": "3.8.12"
  }
 },
 "nbformat": 4,
 "nbformat_minor": 5
}
